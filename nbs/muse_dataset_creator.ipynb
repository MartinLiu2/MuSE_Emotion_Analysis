{
 "metadata": {
  "language_info": {
   "codemirror_mode": {
    "name": "ipython",
    "version": 3
   },
   "file_extension": ".py",
   "mimetype": "text/x-python",
   "name": "python",
   "nbconvert_exporter": "python",
   "pygments_lexer": "ipython3",
   "version": "3.8.5"
  },
  "orig_nbformat": 4,
  "kernelspec": {
   "name": "python3",
   "display_name": "Python 3.8.5 64-bit"
  },
  "interpreter": {
   "hash": "b045124bcdd1c40b84b667cdfcc8f45f39bd89c671aa4fba75a85560739fc3dc"
  }
 },
 "nbformat": 4,
 "nbformat_minor": 2,
 "cells": [
  {
   "cell_type": "code",
   "execution_count": 23,
   "source": [
    "import torch\r\n",
    "import torch.nn as nn\r\n",
    "import numpy as np\r\n",
    "import os\r\n",
    "import pandas as pd\r\n",
    "import torch.nn.functional as F\r\n",
    "import itertools\r\n",
    "import matplotlib.pyplot as plt\r\n",
    "\r\n",
    "import sampler\r\n",
    "import datasets\r\n",
    "from earlystopping import EarlyStopping\r\n",
    "\r\n",
    "from sklearn.metrics import accuracy_score, recall_score\r\n",
    "from torch.autograd  import  Function"
   ],
   "outputs": [],
   "metadata": {}
  },
  {
   "cell_type": "code",
   "execution_count": 24,
   "source": [
    "audio_folder_name = \"../muse_features/muse_audio_features\"\r\n",
    "lexical_folder_name = \"../muse_features/muse_lexical_features\"\r\n",
    "audio_file_names = os.listdir(audio_folder_name)\r\n",
    "lexical_file_names = os.listdir(lexical_folder_name)\r\n",
    "file_names = [file.split(\".\")[0] for file in audio_file_names]  # Bad Coding Practice\r\n",
    "audio_list = [os.path.join(audio_folder_name, file) for file in audio_file_names]\r\n",
    "lexical_list = []\r\n",
    "for file in file_names:\r\n",
    "    split_arr = file.split(\"_\")\r\n",
    "    for lex_file in lexical_file_names:\r\n",
    "        lex_arr = lex_file.split(\"_\")\r\n",
    "        if int(split_arr[3]) > 10:\r\n",
    "            lexical_list.append(os.path.join(lexical_folder_name, lex_file))\r\n",
    "            break\r\n",
    "        if split_arr[2] == lex_arr[2] and split_arr[3] == lex_arr[3].split(\".\")[0]:\r\n",
    "            lexical_list.append(os.path.join(lexical_folder_name, lex_file))\r\n",
    "            break\r\n",
    "data = {\"file_name_list\": file_names, \"audio_features\": audio_list, \"lexical_features\": lexical_list}\r\n",
    "df = pd.DataFrame(data=data)\r\n",
    "df.to_csv(\"all.csv\")\r\n",
    "print(\"Completed\")"
   ],
   "outputs": [
    {
     "output_type": "stream",
     "name": "stdout",
     "text": [
      "Completed\n"
     ]
    }
   ],
   "metadata": {}
  },
  {
   "cell_type": "code",
   "execution_count": null,
   "source": [
    "def simple_func(arr):\r\n",
    "    out = []\r\n",
    "    for num in arr:\r\n",
    "        if num < 4.5:\r\n",
    "            out.append(0)\r\n",
    "        elif num > 5.5:\r\n",
    "            out.append(2)\r\n",
    "        else:\r\n",
    "            out.append(1)\r\n",
    "    return out\r\n",
    "df = pd.read_csv(\"../dataset/MuSE/all.csv\")\r\n",
    "act = simple_func(df[\"Activation_Mean\"].values)\r\n",
    "val = simple_func(df[\"Valence_Mean\"].values)\r\n",
    "c_act = simple_func(df[\"C_Activation_Mean\"].values)\r\n",
    "c_val = simple_func(df[\"C_Valence_Mean\"].values)\r\n",
    "s_act = simple_func(df[\"S_Activation\"].values)\r\n",
    "s_val = simple_func(df[\"S_Valence\"].values)\r\n",
    "data = {\"file_name_list\": df[\"file_name_list\"].values, \"audio_features\": df[\"audio_features\"].values, \"lexical_features\": df[\"lexical_features\"].values, \"activation_mean\": act, \"valence_mean\": val, \"c_activation_mean\": c_act, \"c_valence_mean\": c_val, \"s_activation\": s_act, \"s_valence\": s_val}\r\n",
    "df = pd.DataFrame(data=data)\r\n",
    "df.to_csv(\"MuSE_allv2.csv\")\r\n",
    "print(\"Completed\")"
   ],
   "outputs": [
    {
     "output_type": "stream",
     "name": "stdout",
     "text": [
      "Completed\n"
     ]
    }
   ],
   "metadata": {}
  },
  {
   "cell_type": "code",
   "execution_count": null,
   "source": [
    "df = pd.read_csv(\"MuSE_all.csv\")\r\n",
    "# train1 = df.iloc[:242,1:]\r\n",
    "# test1 = df.iloc[242:465,1:]\r\n",
    "# train2 = df.iloc[465:737,1:]\r\n",
    "# test2 = df.iloc[737:943,1:]\r\n",
    "train3 = df.iloc[943:1234,1:]\r\n",
    "test3 = df.iloc[1234:1424,1:]\r\n",
    "train2.to_csv(\"train.csv\")\r\n",
    "test2.to_csv(\"test.csv\")\r\n",
    "print(\"Completed\")"
   ],
   "outputs": [
    {
     "output_type": "stream",
     "name": "stdout",
     "text": [
      "Completed\n"
     ]
    }
   ],
   "metadata": {}
  },
  {
   "cell_type": "code",
   "execution_count": 22,
   "source": [
    "test = np.load(r\"../muse_features/MuSE_Lexical_Features/01_DR-100_0079_1.npy\")\r\n",
    "test2 = np.load(r\"../iemocap_features/IEMOCAP/lexical_features_normalized/Session1/Ses01F_impro01/Ses01F_impro01_F000L.npy\")\r\n",
    "print(test.shape)"
   ],
   "outputs": [
    {
     "output_type": "stream",
     "name": "stdout",
     "text": [
      "(768,)\n"
     ]
    }
   ],
   "metadata": {}
  }
 ]
}